{
 "cells": [
  {
   "cell_type": "code",
   "execution_count": null,
   "metadata": {},
   "outputs": [],
   "source": [
    "Tuan Pham, Victoria Hall, Alexy Correa, Sahil Jain  "
   ]
  },
  {
   "cell_type": "markdown",
   "metadata": {},
   "source": [
    "# Final Project\n",
    "\n",
    "One of the most important (and usually time consuming!) steps in the data science process is data pre-processing. \n",
    "\n",
    "Data prep includes:\n",
    "* Data exploration  \n",
    "* Data cleaning\n",
    "* Feature engineering\n",
    "\n",
    "In this assignment, you will do a little of each of these things. "
   ]
  }
 ],
 "metadata": {
  "language_info": {
   "name": "python"
  },
  "orig_nbformat": 4
 },
 "nbformat": 4,
 "nbformat_minor": 2
}
